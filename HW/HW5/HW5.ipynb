{
 "cells": [
  {
   "cell_type": "code",
   "execution_count": null,
   "metadata": {},
   "outputs": [],
   "source": [
    "import numpy as np\n",
    "import matplotlib.pyplot as plt\n",
    "import time\n",
    "from scipy.sparse import spdiags\n",
    "from scipy.sparse import diags\n",
    "from scipy.fftpack import fft2, ifft2\n",
    "from scipy.integrate import solve_ivp\n",
    "from scipy.linalg import lu, solve_triangular\n",
    "from scipy.sparse import csc_matrix\n",
    "from scipy.sparse.linalg import bicgstab\n",
    "import scipy.sparse.linalg as spla\n",
    "from scipy.sparse.linalg import gmres\n",
    "from matplotlib.animation import FuncAnimation\n",
    "from matplotlib.animation import FFMpegWriter\n",
    "from IPython.display import HTML"
   ]
  },
  {
   "cell_type": "code",
   "execution_count": 170,
   "metadata": {},
   "outputs": [],
   "source": [
    "m = 64\n",
    "n = m * m\n",
    "L = 10\n",
    "x = [-L, L]\n",
    "y = [-L, L]\n",
    "delta = (2*L) / m\n",
    "\n",
    "e0 = np.zeros((n, 1))\n",
    "e1 = np.ones((n, 1))\n",
    "e2 = np.copy(e1)\n",
    "e4 = np.copy(e0)\n",
    "\n",
    "for j in range(1, m+1):\n",
    "    e2[m*j-1] = 0\n",
    "    e4[m*j-1] = 1\n",
    "\n",
    "e3 = np.zeros_like(e2)\n",
    "e3[1:n] = e2[0:n-1]\n",
    "e3[0] = e2[n-1]\n",
    "\n",
    "e5 = np.zeros_like(e4)\n",
    "e5[1:n] = e4[0:n-1]\n",
    "e5[0] = e4[n-1]\n",
    "\n",
    "diagonals = [e1.flatten(), e1.flatten(), e5.flatten(), \n",
    "             e2.flatten(), -4 * e1.flatten(), e3.flatten(), \n",
    "             e4.flatten(), e1.flatten(), e1.flatten()]\n",
    "offsets = [-(n-m), -m, -m+1, -1, 0, 1, m-1, m, (n-m)]\n",
    "\n",
    "matA = spdiags(diagonals, offsets, n, n).toarray()\n",
    "matA = matA/(delta**2)\n",
    "\n",
    "diagonals = [e1.flatten(), -1 * e1.flatten(), e1.flatten(), -1 * e1.flatten()]\n",
    "offsets = [-n+m, -m, m, n-m]\n",
    "\n",
    "matB = spdiags(diagonals, offsets, n, n).toarray()\n",
    "matB = matB / (2* delta)\n",
    "\n",
    "diagonals = [e1.flatten(), -e1.flatten()]\n",
    "offsets = [1, -1]\n",
    "\n",
    "matC = spdiags(diagonals, offsets, n, n).toarray()\n",
    "\n",
    "for i in range(m):\n",
    "    matC[(i + 1)*m - 1, i *m] = 1\n",
    "    matC[i*m, i*m+(m-1)] = -1\n",
    "    matC[i*m, i*m - 1] = 0\n",
    "    matC[i*m - 1, i*m] = 0\n",
    "\n",
    "matC = matC / (2* delta)"
   ]
  },
  {
   "cell_type": "code",
   "execution_count": 171,
   "metadata": {},
   "outputs": [],
   "source": [
    "def initial_conditions(case):\n",
    "    if case == \"original\":\n",
    "        return np.exp(-X**2 - Y**2/20)\n",
    "    elif case == \"opposite_gaussians\":\n",
    "        return np.exp(-((X + 5)**2 + Y**2/20)) - np.exp(-((X - 5)**2 + Y**2/20))\n",
    "    elif case == \"same_gaussians\":\n",
    "        return np.exp(-((X + 5)**2 + Y**2/20)) + np.exp(-((X - 5)**2 + Y**2/20))\n",
    "    elif case == \"colliding_pairs\":\n",
    "        return (np.exp(-((X + 5)**2 + (Y + 5)**2/20)) - np.exp(-((X - 5)**2 + (Y + 5)**2/20)) +\n",
    "                np.exp(-((X + 5)**2 + (Y - 5)**2/20)) - np.exp(-((X - 5)**2 + (Y - 5)**2/20)))\n",
    "    elif case == \"random_vortices\":\n",
    "        vortices = np.zeros_like(X)\n",
    "        for _ in range(15):\n",
    "            x0, y0 = np.random.uniform(-10, 10, 2)\n",
    "            amp = np.random.choice([-1, 1]) * np.random.uniform(0.5, 1.5)\n",
    "            ellipticity = np.random.uniform(0.8, 1.2)\n",
    "            vortices += amp * np.exp(-((X - x0)**2/20 + (ellipticity * (Y - y0))**2/20))\n",
    "        return vortices\n",
    "\n",
    "A = matA\n",
    "B = matB\n",
    "C = matC\n",
    "\n",
    "tspan = np.arange(0, 4+0.5, 0.5)\n",
    "nu = 0.001\n",
    "Lx, Ly = 20, 20\n",
    "nx, ny = 64, 64\n",
    "N = nx * ny\n",
    "\n",
    "# Define spatial domain and initial conditions\n",
    "x2 = np.linspace(-Lx/2, Lx/2, nx + 1)\n",
    "x = x2[:nx]\n",
    "y2 = np.linspace(-Ly/2, Ly/2, ny + 1)\n",
    "y = y2[:ny]\n",
    "X, Y = np.meshgrid(x, y)\n",
    "w0 = initial_conditions(\"original\")\n",
    "\n",
    "# Define spectral k values\n",
    "kx = (2 * np.pi / Lx) * np.concatenate((np.arange(0, nx/2), np.arange(-nx/2, 0)))\n",
    "kx[0] = 1e-6\n",
    "ky = (2 * np.pi / Ly) * np.concatenate((np.arange(0, ny/2), np.arange(-ny/2, 0)))\n",
    "ky[0] = 1e-6\n",
    "KX, KY = np.meshgrid(kx, ky)\n",
    "K = KX**2 + KY**2"
   ]
  },
  {
   "cell_type": "code",
   "execution_count": 172,
   "metadata": {},
   "outputs": [],
   "source": [
    "def spc_rhs(t, w0, nx, ny, K, nu):\n",
    "    w2d = w0.reshape((nx, ny))\n",
    "    wt = fft2(w2d)\n",
    "    psit = -wt / K\n",
    "    psi = np.real(ifft2(psit))\n",
    "    psi = psi.flatten()\n",
    "    rhs = (nu * A.dot(w0) + B.dot(w0) * C.dot(psi) - C.dot(w0) * B.dot(psi))\n",
    "    return rhs\n",
    "\n",
    "w0 = w0.flatten()\n",
    "wtsol = solve_ivp(spc_rhs, [0, 4], w0, method= \"RK45\", t_eval=tspan, args=(nx, ny, K, nu))\n",
    "A1 = wtsol.y\n",
    "    \n",
    "# ================= Animation ======================\n",
    "\n",
    "# fig, ax = plt.subplots()\n",
    "# c = ax.pcolor(X, Y, A1[-1], shading='auto', cmap='viridis')\n",
    "# fig.colorbar(c, ax=ax)\n",
    "# time_text = ax.text(0.05, 0.95, '', transform=ax.transAxes, color='white', fontsize=12)\n",
    "\n",
    "# # Define the update function for the animation\n",
    "# def update(frame):\n",
    "#     c.set_array(A1[frame].flatten())\n",
    "#     time_text.set_text(f'Time: {tspan[frame]:.2f}')\n",
    "#     return c, time_text\n",
    "\n",
    "# # Create the animation\n",
    "# ani = FuncAnimation(fig, update, frames=len(A1), interval=100, blit=False)\n",
    "\n",
    "# plt.close(fig)\n",
    "# HTML(ani.to_jshtml())\n",
    "# ani.save('fft_random_vortices.gif', writer = 'Pillow', fps = 10)"
   ]
  },
  {
   "cell_type": "code",
   "execution_count": 173,
   "metadata": {},
   "outputs": [
    {
     "name": "stdout",
     "output_type": "stream",
     "text": [
      "Elapsed time for A/b: 11.14 seconds\n"
     ]
    }
   ],
   "source": [
    "# A/b\n",
    "A[0, 0] = 2\n",
    "start_time = time.time()\n",
    "def a_b_rhs(t, w0, nu):\n",
    "    psi = np.linalg.solve(A, w0)\n",
    "    rhs = (nu * A.dot(w0) + B.dot(w0) * C.dot(psi) - C.dot(w0) * B.dot(psi))\n",
    "    return rhs\n",
    "\n",
    "w = np.exp(-X**2 - Y**2 / 20)\n",
    "w0 = w.flatten()\n",
    "wtsol = solve_ivp(a_b_rhs, [0, 4], w0, method= \"RK45\", t_eval=tspan, args=(nu,))\n",
    "wtsol = wtsol.y\n",
    "end_time = time.time()\n",
    "elapsed_time = end_time - start_time\n",
    "print (f\"Elapsed time for A/b: {elapsed_time:.2f} seconds\")\n",
    "A2 = wtsol"
   ]
  },
  {
   "cell_type": "code",
   "execution_count": 174,
   "metadata": {},
   "outputs": [
    {
     "name": "stdout",
     "output_type": "stream",
     "text": [
      "Elapsed time for LU Decomp: 1.56 seconds\n"
     ]
    }
   ],
   "source": [
    "# LU Decomp\n",
    "start_time = time.time()\n",
    "P, L, U = lu(A)\n",
    "def LU_rhs(t, w0, nu):\n",
    "    Pb = np.dot(P, w0)\n",
    "    y = solve_triangular(L, Pb, lower=True)\n",
    "    psi = solve_triangular(U, y, lower=False)\n",
    "    rhs = (nu * A.dot(w0) + B.dot(w0) * C.dot(psi) - C.dot(w0) * B.dot(psi))\n",
    "    return rhs\n",
    "\n",
    "w = np.exp(-X**2 - Y**2 / 20)\n",
    "w0 = w.flatten()\n",
    "wtsol = solve_ivp(LU_rhs, [0, 4], w0, method= \"RK45\", t_eval=tspan, args=(nu,))\n",
    "wtsol = wtsol.y\n",
    "end_time = time.time()\n",
    "elapsed_time = end_time - start_time\n",
    "print (f\"Elapsed time for LU Decomp: {elapsed_time:.2f} seconds\")\n",
    "A3 = wtsol"
   ]
  },
  {
   "cell_type": "code",
   "execution_count": 175,
   "metadata": {},
   "outputs": [
    {
     "name": "stdout",
     "output_type": "stream",
     "text": [
      "Elapsed time for BICGSTAB Decomp: 1.41 seconds\n"
     ]
    }
   ],
   "source": [
    "# BICGSTAB\n",
    "start_time = time.time()\n",
    "A_BIC = csc_matrix(A)\n",
    "def BICG_rhs(t, w0, nu):\n",
    "    psi, exit_code = bicgstab(A_BIC, w0, atol=1e-8)\n",
    "    rhs = (nu * A_BIC.dot(w0) + B.dot(w0) * C.dot(psi) - C.dot(w0) * B.dot(psi))\n",
    "    return rhs\n",
    "\n",
    "w = np.exp(-X**2 - Y**2 / 20)\n",
    "w0 = w.flatten()\n",
    "wtsol = solve_ivp(BICG_rhs, [0, 4], w0, method= \"RK45\", t_eval=tspan, args=(nu,))\n",
    "wtsol = wtsol.y\n",
    "end_time = time.time()\n",
    "elapsed_time = end_time - start_time\n",
    "print (f\"Elapsed time for BICGSTAB Decomp: {elapsed_time:.2f} seconds\")\n",
    "A4 = wtsol"
   ]
  },
  {
   "cell_type": "code",
   "execution_count": 176,
   "metadata": {},
   "outputs": [
    {
     "name": "stdout",
     "output_type": "stream",
     "text": [
      "Elapsed time for GMRES Decomp: 10.79 seconds\n"
     ]
    }
   ],
   "source": [
    "# GMRES\n",
    "start_time = time.time()\n",
    "A_GMR = csc_matrix(A, dtype=float)\n",
    "B_GMR = csc_matrix(B, dtype=float)\n",
    "C_GMR = csc_matrix(C, dtype=float)\n",
    "def GMRES_rhs(t, w0, nu):\n",
    "    psi, exit_code = gmres(A_GMR, w0, atol=1e-8)\n",
    "    rhs = (nu * A_GMR.dot(w0) + B_GMR.dot(w0) * C_GMR.dot(psi) - C_GMR.dot(w0) * B_GMR.dot(psi))\n",
    "    return rhs\n",
    "\n",
    "w = np.exp(-X**2 - Y**2 / 20)\n",
    "w0 = w.flatten()\n",
    "wtsol = solve_ivp(GMRES_rhs, [0, 4], w0, method= \"RK45\", t_eval=tspan, args=(nu,))\n",
    "wtsol = wtsol.y\n",
    "end_time = time.time()\n",
    "elapsed_time = end_time - start_time\n",
    "print (f\"Elapsed time for GMRES Decomp: {elapsed_time:.2f} seconds\")\n",
    "A5 = wtsol"
   ]
  },
  {
   "cell_type": "code",
   "execution_count": 177,
   "metadata": {},
   "outputs": [
    {
     "name": "stdout",
     "output_type": "stream",
     "text": [
      "A1: [[2.50656748e-46 3.54964961e-45 1.85768096e-44 ... 1.85272739e-42\n",
      "  4.67439366e-42 1.11058944e-41]\n",
      " [1.17762859e-43 6.53319004e-43 2.62245678e-42 ... 1.58946594e-40\n",
      "  3.56498221e-40 7.46793534e-40]\n",
      " [4.55107657e-41 1.92934361e-40 6.43507373e-40 ... 2.49607447e-38\n",
      "  5.08478333e-38 9.69634778e-38]\n",
      " ...\n",
      " [1.96785570e-38 1.23357409e-37 5.47591944e-37 ... 4.35250271e-35\n",
      "  1.02347073e-34 2.23043626e-34]\n",
      " [6.19028421e-41 5.33777602e-40 2.93883953e-39 ... 3.67992748e-37\n",
      "  9.45792605e-37 2.23822117e-36]\n",
      " [1.60178709e-43 1.99380943e-42 1.41671738e-41 ... 2.79962856e-39\n",
      "  7.95937714e-39 2.07748843e-38]]\n",
      "A2: [[ 2.50656748e-46 -1.78784704e-36  1.02706391e-36 ... -5.76806489e-26\n",
      "  -6.68287054e-25  3.02050167e-24]\n",
      " [ 1.17762859e-43 -2.26093387e-29  1.85614646e-29 ... -1.48306461e-19\n",
      "  -7.82424220e-19  1.67449651e-18]\n",
      " [ 4.55107657e-41 -4.24661881e-29  3.48720993e-29 ... -2.20165937e-20\n",
      "  -2.91637720e-19  1.23961335e-18]\n",
      " ...\n",
      " [ 1.96785570e-38  7.20814729e-28 -6.58759786e-28 ...  4.01674620e-20\n",
      "   1.34371413e-19 -8.94163775e-19]\n",
      " [ 6.19028421e-41  1.69117621e-28 -1.49205998e-28 ...  3.00460834e-20\n",
      "   1.76009486e-19 -9.80736832e-19]\n",
      " [ 1.60178709e-43  5.05834665e-29 -4.38046443e-29 ...  2.47633369e-20\n",
      "   1.15181522e-20  3.12761254e-20]]\n",
      "A3: [[ 2.50656748e-46 -1.78784704e-36  1.02706391e-36 ... -5.76806489e-26\n",
      "  -6.68287054e-25  3.02050167e-24]\n",
      " [ 1.17762859e-43 -2.26093387e-29  1.85614646e-29 ... -1.48306461e-19\n",
      "  -7.82424220e-19  1.67449651e-18]\n",
      " [ 4.55107657e-41 -4.24661881e-29  3.48720993e-29 ... -2.20165937e-20\n",
      "  -2.91637720e-19  1.23961335e-18]\n",
      " ...\n",
      " [ 1.96785570e-38  7.20814729e-28 -6.58759786e-28 ...  4.01674620e-20\n",
      "   1.34371413e-19 -8.94163775e-19]\n",
      " [ 6.19028421e-41  1.69117621e-28 -1.49205998e-28 ...  3.00460834e-20\n",
      "   1.76009486e-19 -9.80736832e-19]\n",
      " [ 1.60178709e-43  5.05834665e-29 -4.38046443e-29 ...  2.47633369e-20\n",
      "   1.15181522e-20  3.12761254e-20]]\n"
     ]
    }
   ],
   "source": [
    "print(\"A1:\", A1)\n",
    "print(\"A2:\", A2)\n",
    "print(\"A3:\", A3)"
   ]
  }
 ],
 "metadata": {
  "kernelspec": {
   "display_name": "base",
   "language": "python",
   "name": "python3"
  },
  "language_info": {
   "codemirror_mode": {
    "name": "ipython",
    "version": 3
   },
   "file_extension": ".py",
   "mimetype": "text/x-python",
   "name": "python",
   "nbconvert_exporter": "python",
   "pygments_lexer": "ipython3",
   "version": "3.11.5"
  }
 },
 "nbformat": 4,
 "nbformat_minor": 2
}
