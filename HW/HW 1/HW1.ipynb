{
 "cells": [
  {
   "cell_type": "code",
   "execution_count": 1,
   "metadata": {},
   "outputs": [],
   "source": [
    "import numpy as np"
   ]
  },
  {
   "cell_type": "code",
   "execution_count": 2,
   "metadata": {},
   "outputs": [],
   "source": [
    "def f(x):\n",
    "    return x * np.sin(3*x) - np.exp(x)\n",
    "\n",
    "def df(x):\n",
    "    return np.sin(3*x) + 3*x*np.cos(3*x) - np.exp(x)"
   ]
  },
  {
   "cell_type": "code",
   "execution_count": 3,
   "metadata": {},
   "outputs": [],
   "source": [
    "# Newton-Raphson method\n",
    "def newton_raphson(x0, tol=1e-6):\n",
    "    x_val = [x0]\n",
    "    max_iter = 1000\n",
    "    for i in range(max_iter):\n",
    "        x_new = x_val[i] - f(x_val[i])/df(x_val[i])\n",
    "        x_val.append(x_new)\n",
    "        if np.abs(f(x_new)) < tol:\n",
    "            break\n",
    "    return x_val[-1], len(x_val), x_val"
   ]
  },
  {
   "cell_type": "code",
   "execution_count": 4,
   "metadata": {},
   "outputs": [],
   "source": [
    "# Bisection method\n",
    "def bisection(left, right, tol=1e-6):\n",
    "    mid = []\n",
    "    max_iter = 1000\n",
    "    for i in range(max_iter):\n",
    "        mid.append((left + right)/2)\n",
    "        if np.abs(f(mid[i]) > 0):\n",
    "            left = mid[i]\n",
    "        else:\n",
    "            right = mid[i]\n",
    "        if (np.abs(f(mid[i])) < tol):\n",
    "            break\n",
    "    return mid[-1], len(mid), mid"
   ]
  },
  {
   "cell_type": "code",
   "execution_count": 5,
   "metadata": {},
   "outputs": [],
   "source": [
    "newton_x_final_val, newton_iter_num, newton_x_val = newton_raphson(-1.6)\n",
    "np.save('/Users/chris/Library/CloudStorage/OneDrive-UW/4. Seinor/AMATH 481/HW/HW 1/A1.npy', newton_x_val)\n",
    "bisec_x_final_val, bisec_iter_num, bisec_x_val = bisection(-0.7, -0.4)\n",
    "np.save('/Users/chris/Library/CloudStorage/OneDrive-UW/4. Seinor/AMATH 481/HW/HW 1/A2.npy', bisec_x_val)\n",
    "np.save('/Users/chris/Library/CloudStorage/OneDrive-UW/4. Seinor/AMATH 481/HW/HW 1/A3.npy', [newton_iter_num, bisec_iter_num])"
   ]
  },
  {
   "cell_type": "code",
   "execution_count": 6,
   "metadata": {},
   "outputs": [],
   "source": [
    "# Question 2\n",
    "A = np.array([[1, 2], [-1, 1]])\n",
    "B = np.array([[2, 0], [0, 2]])\n",
    "C = np.array([[2, 0, -3], [0, 0, -1]])\n",
    "D = np.array([[1, 2], [2, 3], [-1, 0]])\n",
    "x = np.array([[1], [0]])\n",
    "y = np.array([[0], [1]])\n",
    "z = np.array([[1], [2], [-1]])\n",
    "\n",
    "# a)\n",
    "A4 = A + B\n",
    "np.save('/Users/chris/Library/CloudStorage/OneDrive-UW/4. Seinor/AMATH 481/HW/HW 1/A4.npy', A4)\n",
    "\n",
    "# b)\n",
    "A5 = 3*x - 4*y\n",
    "np.save('/Users/chris/Library/CloudStorage/OneDrive-UW/4. Seinor/AMATH 481/HW/HW 1/A5.npy', A5)\n",
    "\n",
    "# c)\n",
    "A6 = np.dot(A, x)\n",
    "np.save('/Users/chris/Library/CloudStorage/OneDrive-UW/4. Seinor/AMATH 481/HW/HW 1/A6.npy', A6)\n",
    "\n",
    "# d)\n",
    "A7 = np.dot(B, (x-y))\n",
    "np.save('/Users/chris/Library/CloudStorage/OneDrive-UW/4. Seinor/AMATH 481/HW/HW 1/A7.npy', A7)\n",
    "\n",
    "# e)\n",
    "A8 = np.dot(D, x)\n",
    "np.save('/Users/chris/Library/CloudStorage/OneDrive-UW/4. Seinor/AMATH 481/HW/HW 1/A8.npy', A8)\n",
    "\n",
    "# f)\n",
    "A9 = np.dot(D, y) + z\n",
    "np.save('/Users/chris/Library/CloudStorage/OneDrive-UW/4. Seinor/AMATH 481/HW/HW 1/A9.npy', A9)\n",
    "\n",
    "# g)\n",
    "A10 = np.dot(A, B)\n",
    "np.save('/Users/chris/Library/CloudStorage/OneDrive-UW/4. Seinor/AMATH 481/HW/HW 1/A10.npy', A10)\n",
    "\n",
    "# h)\n",
    "A11 = np.dot(B, C)\n",
    "np.save('/Users/chris/Library/CloudStorage/OneDrive-UW/4. Seinor/AMATH 481/HW/HW 1/A11.npy', A11)\n",
    "\n",
    "# i)\n",
    "A12 = np.dot(C, D)\n",
    "np.save('/Users/chris/Library/CloudStorage/OneDrive-UW/4. Seinor/AMATH 481/HW/HW 1/A12.npy', A12)"
   ]
  }
 ],
 "metadata": {
  "kernelspec": {
   "display_name": ".venv",
   "language": "python",
   "name": "python3"
  },
  "language_info": {
   "codemirror_mode": {
    "name": "ipython",
    "version": 3
   },
   "file_extension": ".py",
   "mimetype": "text/x-python",
   "name": "python",
   "nbconvert_exporter": "python",
   "pygments_lexer": "ipython3",
   "version": "3.12.2"
  }
 },
 "nbformat": 4,
 "nbformat_minor": 2
}
