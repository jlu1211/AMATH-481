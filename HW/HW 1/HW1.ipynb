{
 "cells": [
  {
   "cell_type": "code",
   "execution_count": 7,
   "metadata": {},
   "outputs": [],
   "source": [
    "import numpy as np"
   ]
  },
  {
   "cell_type": "code",
   "execution_count": 13,
   "metadata": {},
   "outputs": [],
   "source": [
    "def f(x):\n",
    "    return x * np.sin(3*x) - np.exp(x)\n",
    "\n",
    "def df(x):\n",
    "    return np.sin(3*x) + 3*x*np.cos(3*x) - np.exp(x)"
   ]
  },
  {
   "cell_type": "code",
   "execution_count": 23,
   "metadata": {},
   "outputs": [],
   "source": [
    "# Newton-Raphson method\n",
    "def newton_raphson(x0, tol=1e-6):\n",
    "    x_val = [x0]\n",
    "    max_iter = 1000\n",
    "    iter_num = 0\n",
    "    for i in range(max_iter):\n",
    "        iter_num += 1\n",
    "        x_new = x_val[i] - f(x_val[i])/df(x_val[i])\n",
    "        x_val.append(x_new)\n",
    "        if (np.abs(f(x_val[i])) < tol):\n",
    "            break\n",
    "    return x_val[-1], iter_num, x_val"
   ]
  },
  {
   "cell_type": "code",
   "execution_count": 28,
   "metadata": {},
   "outputs": [],
   "source": [
    "# Bisection method\n",
    "def bisection(left, right, tol=1e-6):\n",
    "    mid = []\n",
    "    max_iter = 1000\n",
    "    iter_num = 0\n",
    "    for i in range(max_iter):\n",
    "        iter_num += 1\n",
    "        mid.append((left + right)/2)\n",
    "        if (f(mid[i]) > 0):\n",
    "            left = mid[i]\n",
    "        else:\n",
    "            right = mid[i]\n",
    "        if (np.abs(f(mid[i])) < tol):\n",
    "            break\n",
    "    return mid[-1], iter_num, mid"
   ]
  },
  {
   "cell_type": "code",
   "execution_count": 29,
   "metadata": {},
   "outputs": [
    {
     "name": "stdout",
     "output_type": "stream",
     "text": [
      "[-1.6, np.float64(3.1979951385210694), np.float64(2.4644024441424284), np.float64(1.2035359007112925), np.float64(0.6502014632644292), np.float64(-0.1169233418248703), np.float64(-0.6605234854521386), np.float64(-0.5219265439062168), np.float64(-0.5665527428708069), np.float64(-0.5707465821813341), np.float64(-0.57078961788788), np.float64(-0.57078962246829)] [-0.55, -0.625, -0.5875, -0.5687500000000001, -0.578125, -0.5734375, -0.5710937500000001, -0.5699218750000001, -0.5705078125, -0.57080078125, -0.570654296875, -0.5707275390625, -0.57076416015625, -0.570782470703125, -0.5707916259765625, -0.5707870483398438, -0.5707893371582031] [11, 17]\n"
     ]
    }
   ],
   "source": [
    "newton_x_final_val, newton_iter_num, newton_x_val = newton_raphson(-1.6)\n",
    "A1 = newton_x_val\n",
    "bisec_x_final_val, bisec_iter_num, bisec_x_val = bisection(-0.7, -0.4)\n",
    "A2 = bisec_x_val\n",
    "A3 = [newton_iter_num, bisec_iter_num]\n",
    "print(A1, A2, A3)"
   ]
  },
  {
   "cell_type": "code",
   "execution_count": 12,
   "metadata": {},
   "outputs": [
    {
     "name": "stdout",
     "output_type": "stream",
     "text": [
      "[ 3 -4]\n"
     ]
    }
   ],
   "source": [
    "# Question 2\n",
    "A = np.array([[1, 2], [-1, 1]])\n",
    "B = np.array([[2, 0], [0, 2]])\n",
    "C = np.array([[2, 0, -3], [0, 0, -1]])\n",
    "D = np.array([[1, 2], [2, 3], [-1, 0]])\n",
    "x = np.array([1, 0])\n",
    "y = np.array([0, 1])\n",
    "z = np.array([1, 2, -1])\n",
    "\n",
    "# a)\n",
    "A4 = A + B\n",
    "\n",
    "# b)\n",
    "A5 = (3*x - 4*y)\n",
    "print(A5)\n",
    "\n",
    "# c)\n",
    "A6 = (np.dot(A, x))\n",
    "\n",
    "# d)\n",
    "A7 = (np.dot(B, (x-y)))\n",
    "\n",
    "# e)\n",
    "A8 = (np.dot(D, x))\n",
    "\n",
    "# f)\n",
    "A9 = (np.dot(D, y) + z)\n",
    "\n",
    "# g)\n",
    "A10 = np.dot(A, B)\n",
    "\n",
    "# h)\n",
    "A11 = np.dot(B, C)\n",
    "\n",
    "# i)\n",
    "A12 = np.dot(C, D)"
   ]
  }
 ],
 "metadata": {
  "kernelspec": {
   "display_name": ".venv",
   "language": "python",
   "name": "python3"
  },
  "language_info": {
   "codemirror_mode": {
    "name": "ipython",
    "version": 3
   },
   "file_extension": ".py",
   "mimetype": "text/x-python",
   "name": "python",
   "nbconvert_exporter": "python",
   "pygments_lexer": "ipython3",
   "version": "3.12.2"
  }
 },
 "nbformat": 4,
 "nbformat_minor": 2
}
